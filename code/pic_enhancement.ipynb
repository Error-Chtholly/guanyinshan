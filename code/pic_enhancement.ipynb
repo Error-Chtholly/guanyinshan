{
 "cells": [
  {
   "cell_type": "code",
   "execution_count": 7,
   "metadata": {},
   "outputs": [
    {
     "name": "stdout",
     "output_type": "stream",
     "text": [
      "图片已保存至 output_high_res.png\n"
     ]
    }
   ],
   "source": [
    "# 提高输入图片的分辨率\n",
    "from PIL import Image\n",
    "\n",
    "# 打开图片\n",
    "input_image_path = \"Land Use Transitions (2017~2023).png\"\n",
    "img = Image.open(input_image_path)\n",
    "\n",
    "# 调整图片大小（例如：800x600像素）\n",
    "new_size = (12544, 7824)\n",
    "resized_img = img.resize(new_size)\n",
    "\n",
    "# 设置分辨率（例如：300 DPI）\n",
    "resized_img.info['dpi'] = (4000, 4000)\n",
    "\n",
    "# 保存图片\n",
    "output_image_path = \"output_high_res.png\"\n",
    "resized_img.save(output_image_path, quality=95)  # quality参数控制图片质量（1-100）\n",
    "print(f\"图片已保存至 {output_image_path}\")"
   ]
  },
  {
   "cell_type": "code",
   "execution_count": 1,
   "metadata": {},
   "outputs": [
    {
     "name": "stdout",
     "output_type": "stream",
     "text": [
      "图片已保存至 E:/学习资料/竞赛/第三届全国大学生乡村国土空间价值提升规划设计大赛（昆明赛区）/实验数据/FLUS/data/2017output/2023.tif\n"
     ]
    }
   ],
   "source": [
    "# 提高输入图片的分辨率\n",
    "from PIL import Image\n",
    "\n",
    "# 打开图片\n",
    "input_image_path = \"E:/学习资料/竞赛/第三届全国大学生乡村国土空间价值提升规划设计大赛（昆明赛区）/实验数据/FLUS/data/2023output/2023.tif\"\n",
    "img = Image.open(input_image_path)\n",
    "\n",
    "# 调整图片大小（例如：800x600像素）\n",
    "new_size = (517, 384)\n",
    "resized_img = img.resize(new_size)\n",
    "\n",
    "# 设置分辨率（例如：300 DPI）\n",
    "resized_img.info['dpi'] = (300, 300)\n",
    "\n",
    "# 保存图片\n",
    "output_image_path = \"E:/学习资料/竞赛/第三届全国大学生乡村国土空间价值提升规划设计大赛（昆明赛区）/实验数据/FLUS/data/2017output/2023.tif\"\n",
    "resized_img.save(output_image_path)  # quality参数控制图片质量（1-100）\n",
    "print(f\"图片已保存至 {output_image_path}\")"
   ]
  }
 ],
 "metadata": {
  "kernelspec": {
   "display_name": "base",
   "language": "python",
   "name": "python3"
  },
  "language_info": {
   "codemirror_mode": {
    "name": "ipython",
    "version": 3
   },
   "file_extension": ".py",
   "mimetype": "text/x-python",
   "name": "python",
   "nbconvert_exporter": "python",
   "pygments_lexer": "ipython3",
   "version": "3.12.7"
  }
 },
 "nbformat": 4,
 "nbformat_minor": 2
}
