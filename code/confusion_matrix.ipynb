{
 "cells": [
  {
   "cell_type": "code",
   "execution_count": null,
   "metadata": {},
   "outputs": [
    {
     "name": "stdout",
     "output_type": "stream",
     "text": [
      "[65535 65535 65535 ... 65535 65535 65535]\n",
      "[0 0 0 ... 0 0 0]\n",
      "混淆矩阵（行：真实类别，列：预测类别）：\n",
      " [[    0     0     0     0     0     0     0     0     0]\n",
      " [    0   131    29     4     0    45     0    19     0]\n",
      " [    0    66 76311    16   241   671     4  2205     0]\n",
      " [    0     0     0     7     0     0     0     7     0]\n",
      " [    0     0    30     0   169    47     0    90     0]\n",
      " [    0     5   987    13  2060 17565   224   382     0]\n",
      " [    0     0     0     0     0     3    72     0     0]\n",
      " [    0    54  1485   151   976  1090    10  9410     0]\n",
      " [83949     0     0     0     0     0     0     0     0]]\n",
      "Kappa系数： 0.42178843342505656\n",
      "总体精度： 0.5221681576402321\n"
     ]
    }
   ],
   "source": [
    "import numpy as np\n",
    "import rasterio\n",
    "from sklearn.metrics import confusion_matrix, cohen_kappa_score, accuracy_score\n",
    "\n",
    "# 读取两幅TIFF文件\n",
    "def read_tif(file_path):\n",
    "    with rasterio.open(file_path) as src:\n",
    "        data = src.read(1)  # 读取第一波段\n",
    "        return data.flatten()  # 展平为一维数组\n",
    "\n",
    "# 假设文件路径\n",
    "true_tif = 'E:/学习资料/竞赛/第三届全国大学生乡村国土空间价值提升规划设计大赛（昆明赛区）/实验数据/FLUS/data/2017output/2022.tif'\n",
    "pred_tif = 'E:/学习资料/竞赛/第三届全国大学生乡村国土空间价值提升规划设计大赛（昆明赛区）/实验数据/FLUS/save/output/2023_nature.tif'\n",
    "\n",
    "# 读取数据并过滤无效值（如nodata）\n",
    "y_true = read_tif(true_tif)\n",
    "y_pred = read_tif(pred_tif)\n",
    "\n",
    "# 确保两幅图像尺寸一致\n",
    "assert len(y_true) == len(y_pred), \"两幅图像尺寸不一致！\"\n",
    "\n",
    "# 计算混淆矩阵和Kappa系数\n",
    "conf_matrix = confusion_matrix(y_true, y_pred)\n",
    "kappa = cohen_kappa_score(y_true, y_pred)\n",
    "accuracy = accuracy_score(y_true, y_pred)\n",
    "\n",
    "# 输出结果\n",
    "print(\"混淆矩阵（行：真实类别，列：预测类别）：\\n\", conf_matrix)\n",
    "print(\"Kappa系数：\", kappa)\n",
    "print(\"总体精度：\", accuracy)"
   ]
  }
 ],
 "metadata": {
  "kernelspec": {
   "display_name": "rsadl",
   "language": "python",
   "name": "python3"
  },
  "language_info": {
   "codemirror_mode": {
    "name": "ipython",
    "version": 3
   },
   "file_extension": ".py",
   "mimetype": "text/x-python",
   "name": "python",
   "nbconvert_exporter": "python",
   "pygments_lexer": "ipython3",
   "version": "3.10.13"
  }
 },
 "nbformat": 4,
 "nbformat_minor": 2
}
