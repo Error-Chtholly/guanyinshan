{
 "cells": [
  {
   "cell_type": "code",
   "execution_count": 4,
   "metadata": {},
   "outputs": [
    {
     "name": "stdout",
     "output_type": "stream",
     "text": [
      "<xarray.Dataset> Size: 2GB\n",
      "Dimensions:  (lon: 7849, lat: 5146, time: 12)\n",
      "Coordinates:\n",
      "  * lon      (lon) float64 63kB 71.29 71.3 71.31 71.32 ... 136.7 136.7 136.7\n",
      "  * lat      (lat) float64 41kB 58.63 58.62 58.61 58.61 ... 15.77 15.76 15.76\n",
      "  * time     (time) float64 96B 1.0 2.0 3.0 4.0 5.0 ... 8.0 9.0 10.0 11.0 12.0\n",
      "Data variables:\n",
      "    pre      (time, lat, lon) float32 2GB ...\n",
      "Frozen({'lon': <xarray.IndexVariable 'lon' (lon: 7849)> Size: 63kB\n",
      "array([ 71.290055,  71.298389,  71.306722, ..., 136.673389, 136.681722,\n",
      "       136.690055])\n",
      "Attributes:\n",
      "    long_name:  longitude\n",
      "    unit:       degree, 'lat': <xarray.IndexVariable 'lat' (lat: 5146)> Size: 41kB\n",
      "array([58.631291, 58.622957, 58.614624, ..., 15.772957, 15.764624, 15.756291])\n",
      "Attributes:\n",
      "    long_name:  latitude\n",
      "    unit:       degree, 'time': <xarray.IndexVariable 'time' (time: 12)> Size: 96B\n",
      "array([ 1.,  2.,  3.,  4.,  5.,  6.,  7.,  8.,  9., 10., 11., 12.])\n",
      "Attributes:\n",
      "    long_name:  time\n",
      "    unit:       2023.01-2023.12\n",
      "    calendar:   gregorian, 'pre': <xarray.Variable (time: 12, lat: 5146, lon: 7849)> Size: 2GB\n",
      "[484691448 values with dtype=float32]\n",
      "Attributes:\n",
      "    long_name:  monthly precipitation\n",
      "    unit:       0.1 mm})\n"
     ]
    }
   ],
   "source": [
    "import xarray as xr\n",
    "\n",
    "# 读取nc文件\n",
    "ds = xr.open_dataset('./data/rain/pre_2023.nc')\n",
    "\n",
    "# 打印数据集信息\n",
    "print(ds)\n",
    "\n",
    "# 打印变量信息\n",
    "print(ds.variables)\n",
    "\n",
    "# 转换为tif\n",
    "ds.to_netcdf('./data/rain/pre_2023.tif')"
   ]
  },
  {
   "cell_type": "code",
   "execution_count": null,
   "metadata": {},
   "outputs": [
    {
     "name": "stdout",
     "output_type": "stream",
     "text": [
      "<xarray.Dataset> Size: 2GB\n",
      "Dimensions:  (lon: 7849, lat: 5146, time: 12)\n",
      "Coordinates:\n",
      "  * lon      (lon) float64 63kB 71.29 71.3 71.31 71.32 ... 136.7 136.7 136.7\n",
      "  * lat      (lat) float64 41kB 58.63 58.62 58.61 58.61 ... 15.77 15.76 15.76\n",
      "  * time     (time) float64 96B 1.0 2.0 3.0 4.0 5.0 ... 8.0 9.0 10.0 11.0 12.0\n",
      "Data variables:\n",
      "    tmp      (time, lat, lon) float32 2GB ...\n",
      "Frozen({'lon': <xarray.IndexVariable 'lon' (lon: 7849)> Size: 63kB\n",
      "array([ 71.290055,  71.298389,  71.306722, ..., 136.673389, 136.681722,\n",
      "       136.690055])\n",
      "Attributes:\n",
      "    long_name:  longitude\n",
      "    unit:       degree, 'lat': <xarray.IndexVariable 'lat' (lat: 5146)> Size: 41kB\n",
      "array([58.631291, 58.622957, 58.614624, ..., 15.772957, 15.764624, 15.756291])\n",
      "Attributes:\n",
      "    long_name:  latitude\n",
      "    unit:       degree, 'time': <xarray.IndexVariable 'time' (time: 12)> Size: 96B\n",
      "array([ 1.,  2.,  3.,  4.,  5.,  6.,  7.,  8.,  9., 10., 11., 12.])\n",
      "Attributes:\n",
      "    long_name:  time\n",
      "    unit:       2023.01-2023.12\n",
      "    calendar:   gregorian, 'tmp': <xarray.Variable (time: 12, lat: 5146, lon: 7849)> Size: 2GB\n",
      "[484691448 values with dtype=float32]\n",
      "Attributes:\n",
      "    long_name:  monthly mean temperature\n",
      "    unit:       0.1 degree centigrade})\n"
     ]
    }
   ],
   "source": [
    "import xarray as xr\n",
    "\n",
    "# 读取nc文件\n",
    "ds = xr.open_dataset('./data/tempureture/tmp_2023.nc')\n",
    "\n",
    "# 打印数据集信息\n",
    "print(ds)\n",
    "\n",
    "# 打印变量信息\n",
    "print(ds.variables)\n",
    "\n",
    "# 转换为tif\n",
    "ds.to_netcdf('./data/tempureture/tmp_2023.tif')"
   ]
  }
 ],
 "metadata": {
  "kernelspec": {
   "display_name": "rsadl",
   "language": "python",
   "name": "python3"
  },
  "language_info": {
   "codemirror_mode": {
    "name": "ipython",
    "version": 3
   },
   "file_extension": ".py",
   "mimetype": "text/x-python",
   "name": "python",
   "nbconvert_exporter": "python",
   "pygments_lexer": "ipython3",
   "version": "3.10.13"
  }
 },
 "nbformat": 4,
 "nbformat_minor": 2
}
